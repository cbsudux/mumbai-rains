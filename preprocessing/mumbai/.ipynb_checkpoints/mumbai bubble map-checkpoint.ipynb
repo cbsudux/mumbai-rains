{
 "cells": [
  {
   "cell_type": "code",
   "execution_count": 1,
   "metadata": {},
   "outputs": [],
   "source": [
    "from pymongo import MongoClient\n",
    "\n",
    "client = MongoClient()\n",
    "db = client.mumbai_tweets_loc\n",
    "collection = db.twitter_collection\n",
    "\n",
    "import geonamescache\n",
    "\n",
    "gc = geonamescache.GeonamesCache()\n",
    "\n",
    "df_loc = pd.DataFrame()\n",
    "df_loc['city'] = []\n",
    "df_loc['lat'] = []\n",
    "df_loc['lon'] = []\n",
    "\n",
    "import pandas as pd\n",
    "df_loc = pd.DataFrame()\n",
    "\n",
    "tweets_iterator = collection.find()\n",
    "\n",
    "city = []\n",
    "lat = []\n",
    "lon = []\n",
    "\n",
    "for tweet in tweets_iterator:\n",
    "    city_name =  tweet['place']['name']\n",
    "    list_temp = gc.get_cities_by_name(city_name)\n",
    "    if len(list_temp)!= 0:\n",
    "        for x in list_temp[0].values():\n",
    "            city.append(city_name)\n",
    "            lat.append(x['latitude'])\n",
    "            lon.append(x['longitude'])\n",
    "df_loc['city'] = city\n",
    "df_loc['lat'] = lat\n",
    "df_loc['lon'] = lon\n",
    "\n",
    "\n",
    "df_loc['freq'] = df_loc.groupby('city')['city'].transform('count')\n",
    "\n",
    "\n",
    "df_loc = df_loc.drop_duplicates()"
   ]
  },
  {
   "cell_type": "code",
   "execution_count": null,
   "metadata": {},
   "outputs": [],
   "source": [
    "df_loc"
   ]
  },
  {
   "cell_type": "code",
   "execution_count": 22,
   "metadata": {},
   "outputs": [
    {
     "name": "stderr",
     "output_type": "stream",
     "text": [
      "/home/cbsudux/.local/lib/python3.5/site-packages/ipykernel_launcher.py:5: SettingWithCopyWarning:\n",
      "\n",
      "\n",
      "A value is trying to be set on a copy of a slice from a DataFrame.\n",
      "Try using .loc[row_indexer,col_indexer] = value instead\n",
      "\n",
      "See the caveats in the documentation: http://pandas.pydata.org/pandas-docs/stable/indexing.html#indexing-view-versus-copy\n",
      "\n",
      "/home/cbsudux/.local/lib/python3.5/site-packages/plotly/offline/offline.py:459: UserWarning:\n",
      "\n",
      "Your filename `Bubble map` didn't end with .html. Adding .html to the end of your file.\n",
      "\n"
     ]
    },
    {
     "data": {
      "text/plain": [
       "'file:///home/cbsudux/python_ws/task/notebooks/Bubble map.html'"
      ]
     },
     "execution_count": 22,
     "metadata": {},
     "output_type": "execute_result"
    }
   ],
   "source": [
    "import plotly\n",
    "\n",
    "df =df_loc\n",
    "\n",
    "df['text'] = df['city'] + '<br>' + (df['freq']).astype(str)\n",
    "limits = [(0,2),(3,10),(11,50),(50,500)]\n",
    "colors = [\"rgb(0,116,217)\",\"rgb(255,65,54)\",\"rgb(133,20,75)\",\"rgb(255,133,27)\"]\n",
    "cities = []\n",
    "scale = 5 ## \n",
    "\n",
    "for i in range(len(limits)):\n",
    "    lim = limits[i]\n",
    "    df_sub = df[(df['freq'] >=lim[0]) & (df['freq'] <= lim[1])]\n",
    "    city = dict(\n",
    "        type = 'scattergeo',\n",
    "        locationmode = 'India-states',###\n",
    "        lon = df_sub['lon'],\n",
    "        lat = df_sub['lat'],\n",
    "        text = df_sub['text'],\n",
    "        marker = dict(\n",
    "            size = df_sub['freq']*scale,\n",
    "            color = colors[i],\n",
    "            line = dict(width=0.5, color='rgb(40,40,40)'),\n",
    "            sizemode = 'area'\n",
    "        ),\n",
    "        name = '{0} - {1}'.format(lim[0],lim[1]) )\n",
    "    cities.append(city)\n",
    "\n",
    "layout = dict(\n",
    "        title = 'Mumbai Rains Activity<br>(Hover to learn more + Click legend to toggle traces)',\n",
    "        showlegend = True,\n",
    "        geo = dict(\n",
    "            scope='asia',\n",
    "            projection=dict( type='mercator' ),\n",
    "            showland = True,\n",
    "            landcolor = 'rgb(217, 217, 217)',\n",
    "            subunitwidth=1,\n",
    "            countrywidth=1,\n",
    "            subunitcolor=\"rgb(255, 255, 255)\",\n",
    "            countrycolor=\"rgb(255, 255, 255)\"\n",
    "        ),\n",
    "    )\n",
    "\n",
    "fig = dict( data=cities, layout=layout )\n",
    "plotly.offline.plot( fig, validate=False, filename='Bubble map' )"
   ]
  },
  {
   "cell_type": "code",
   "execution_count": null,
   "metadata": {},
   "outputs": [],
   "source": []
  }
 ],
 "metadata": {
  "kernelspec": {
   "display_name": "Python 3",
   "language": "python",
   "name": "python3"
  },
  "language_info": {
   "codemirror_mode": {
    "name": "ipython",
    "version": 3
   },
   "file_extension": ".py",
   "mimetype": "text/x-python",
   "name": "python",
   "nbconvert_exporter": "python",
   "pygments_lexer": "ipython3",
   "version": "3.5.2"
  }
 },
 "nbformat": 4,
 "nbformat_minor": 2
}
