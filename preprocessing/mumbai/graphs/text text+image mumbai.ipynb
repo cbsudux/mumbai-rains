{
 "cells": [
  {
   "cell_type": "code",
   "execution_count": 1,
   "metadata": {},
   "outputs": [],
   "source": [
    "from pymongo import MongoClient\n",
    "import json\n",
    "import pandas as pd\n",
    "\n",
    "%matplotlib inline\n",
    "\n",
    "client = MongoClient()\n",
    "db = client.mumbai_tweets_noloc_edited\n",
    "collection = db.twitter_collection\n",
    "\n",
    "\n",
    "tweets_iterator = collection_2.find()\n",
    "count = 0\n",
    "count_2 = 0\n",
    "for tweet in tweets_iterator:\n",
    "    count_2 = count_2+1\n",
    "    try:\n",
    "        if tweet['entities']['media'][0]['type']:\n",
    "            count = count+1\n",
    "    except KeyError:\n",
    "        pass\n",
    "    \n",
    "print(count, count_2)"
   ]
  },
  {
   "cell_type": "code",
   "execution_count": 13,
   "metadata": {},
   "outputs": [
    {
     "name": "stderr",
     "output_type": "stream",
     "text": [
      "/home/cbsudux/.local/lib/python3.5/site-packages/plotly/offline/offline.py:459: UserWarning:\n",
      "\n",
      "Your filename `basic-bar` didn't end with .html. Adding .html to the end of your file.\n",
      "\n"
     ]
    },
    {
     "data": {
      "text/plain": [
       "'file:///home/cbsudux/python_ws/task/graphs/mumbai/basic-bar.html'"
      ]
     },
     "execution_count": 13,
     "metadata": {},
     "output_type": "execute_result"
    }
   ],
   "source": [
    "import plotly\n",
    "import plotly.graph_objs as go\n",
    "\n",
    "data = [go.Bar(\n",
    "            x=['text','text+image'],\n",
    "            y=[9239,761],\n",
    "            marker=dict( color = ['#1dcaff','#ff4f81'])\n",
    "    )]\n",
    "\n",
    "layout = go.Layout(\n",
    "   xaxis=dict(\n",
    "        tickfont=dict(\n",
    "            size=30,\n",
    "            color='rgb(255, 255, 255)'\n",
    "            \n",
    "        )\n",
    "   ),plot_bgcolor=\"#020202\",    paper_bgcolor=\"#020202\",\n",
    "    yaxis=dict(\n",
    "        tickfont=dict(\n",
    "            size=20,\n",
    "            color='rgb(255, 255, 255)'\n",
    "            \n",
    "        )\n",
    "))\n",
    "    \n",
    "fig = go.Figure(data=data, layout=layout)\n",
    "\n",
    "plotly.offline.plot(fig, filename='basic-bar')"
   ]
  },
  {
   "cell_type": "code",
   "execution_count": null,
   "metadata": {},
   "outputs": [],
   "source": []
  }
 ],
 "metadata": {
  "kernelspec": {
   "display_name": "Python 3",
   "language": "python",
   "name": "python3"
  },
  "language_info": {
   "codemirror_mode": {
    "name": "ipython",
    "version": 3
   },
   "file_extension": ".py",
   "mimetype": "text/x-python",
   "name": "python",
   "nbconvert_exporter": "python",
   "pygments_lexer": "ipython3",
   "version": "3.5.2"
  }
 },
 "nbformat": 4,
 "nbformat_minor": 2
}
